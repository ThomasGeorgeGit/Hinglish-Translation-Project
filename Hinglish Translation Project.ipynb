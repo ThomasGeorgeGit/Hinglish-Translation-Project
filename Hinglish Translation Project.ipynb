{
 "cells": [
  {
   "cell_type": "code",
   "execution_count": 2,
   "id": "9d88ebb9",
   "metadata": {},
   "outputs": [],
   "source": [
    "from googletrans import Translator"
   ]
  },
  {
   "cell_type": "code",
   "execution_count": 5,
   "id": "55931832",
   "metadata": {},
   "outputs": [
    {
     "name": "stdout",
     "output_type": "stream",
     "text": [
      "Translated(src=en, dest=hi, text=अपना फीडबैक कमेंट सेक्शन में जरूर साझा करें., pronunciation=apana pheedabaik kament sekshan mein jaroor saajha karen., extra_data=\"{'translat...\")\n"
     ]
    }
   ],
   "source": [
    "translater = Translator()\n",
    "\n",
    "out= translater.translate(\"Definitely share your feedback in the comment section.\",dest='hi')\n",
    "print(out)"
   ]
  },
  {
   "cell_type": "code",
   "execution_count": 6,
   "id": "2b8f155f",
   "metadata": {},
   "outputs": [
    {
     "name": "stdout",
     "output_type": "stream",
     "text": [
      "Translated(src=en, dest=hi, text=इसलिए भले ही यह एक बड़ा वीडियो हो, मैं स्पष्ट रूप से सभी उत्पादों का उल्लेख करूंगा।, pronunciation=isalie bhale hee yah ek bada veediyo ho, main spasht roop se sabhee utpaadon ka ullekh karoonga., extra_data=\"{'translat...\")\n"
     ]
    }
   ],
   "source": [
    "translater = Translator()\n",
    "\n",
    "out= translater.translate(\"So even if it's a big video, I will clearly mention all the products.\",dest='hi')\n",
    "print(out)"
   ]
  },
  {
   "cell_type": "code",
   "execution_count": 7,
   "id": "81056a42",
   "metadata": {},
   "outputs": [
    {
     "name": "stdout",
     "output_type": "stream",
     "text": [
      "Translated(src=en, dest=hi, text=मैं अपने बैग का इंतज़ार कर रहा था., pronunciation=main apane baig ka intazaar kar raha tha., extra_data=\"{'translat...\")\n"
     ]
    }
   ],
   "source": [
    "translater = Translator()\n",
    "\n",
    "out= translater.translate(\" I was waiting for my bag.\",dest='hi')\n",
    "print(out)"
   ]
  },
  {
   "cell_type": "code",
   "execution_count": null,
   "id": "1d3037d2",
   "metadata": {},
   "outputs": [],
   "source": []
  }
 ],
 "metadata": {
  "kernelspec": {
   "display_name": "Python 3 (ipykernel)",
   "language": "python",
   "name": "python3"
  },
  "language_info": {
   "codemirror_mode": {
    "name": "ipython",
    "version": 3
   },
   "file_extension": ".py",
   "mimetype": "text/x-python",
   "name": "python",
   "nbconvert_exporter": "python",
   "pygments_lexer": "ipython3",
   "version": "3.11.3"
  }
 },
 "nbformat": 4,
 "nbformat_minor": 5
}
